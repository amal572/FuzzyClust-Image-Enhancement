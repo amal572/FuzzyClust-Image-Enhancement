{
 "cells": [
  {
   "cell_type": "code",
   "execution_count": 9,
   "metadata": {},
   "outputs": [],
   "source": [
    "import pandas as pd \n",
    "import numpy as np\n",
    "import random\n",
    "import operator\n",
    "import math\n",
    "import matplotlib.pyplot as plt \n",
    "from scipy.stats import multivariate_normal"
   ]
  },
  {
   "cell_type": "markdown",
   "metadata": {},
   "source": [
    "### Date Preview"
   ]
  },
  {
   "cell_type": "code",
   "execution_count": 10,
   "metadata": {},
   "outputs": [
    {
     "data": {
      "text/html": [
       "<div>\n",
       "<style scoped>\n",
       "    .dataframe tbody tr th:only-of-type {\n",
       "        vertical-align: middle;\n",
       "    }\n",
       "\n",
       "    .dataframe tbody tr th {\n",
       "        vertical-align: top;\n",
       "    }\n",
       "\n",
       "    .dataframe thead th {\n",
       "        text-align: right;\n",
       "    }\n",
       "</style>\n",
       "<table border=\"1\" class=\"dataframe\">\n",
       "  <thead>\n",
       "    <tr style=\"text-align: right;\">\n",
       "      <th></th>\n",
       "      <th>SepalLengthCm</th>\n",
       "      <th>SepalWidthCm</th>\n",
       "      <th>PetalLengthCm</th>\n",
       "      <th>PetalWidthCm</th>\n",
       "      <th>Species</th>\n",
       "    </tr>\n",
       "  </thead>\n",
       "  <tbody>\n",
       "    <tr>\n",
       "      <th>0</th>\n",
       "      <td>5.1</td>\n",
       "      <td>3.5</td>\n",
       "      <td>1.4</td>\n",
       "      <td>0.2</td>\n",
       "      <td>Iris-setosa</td>\n",
       "    </tr>\n",
       "    <tr>\n",
       "      <th>1</th>\n",
       "      <td>4.9</td>\n",
       "      <td>3.0</td>\n",
       "      <td>1.4</td>\n",
       "      <td>0.2</td>\n",
       "      <td>Iris-setosa</td>\n",
       "    </tr>\n",
       "    <tr>\n",
       "      <th>2</th>\n",
       "      <td>4.7</td>\n",
       "      <td>3.2</td>\n",
       "      <td>1.3</td>\n",
       "      <td>0.2</td>\n",
       "      <td>Iris-setosa</td>\n",
       "    </tr>\n",
       "    <tr>\n",
       "      <th>3</th>\n",
       "      <td>4.6</td>\n",
       "      <td>3.1</td>\n",
       "      <td>1.5</td>\n",
       "      <td>0.2</td>\n",
       "      <td>Iris-setosa</td>\n",
       "    </tr>\n",
       "    <tr>\n",
       "      <th>4</th>\n",
       "      <td>5.0</td>\n",
       "      <td>3.6</td>\n",
       "      <td>1.4</td>\n",
       "      <td>0.2</td>\n",
       "      <td>Iris-setosa</td>\n",
       "    </tr>\n",
       "  </tbody>\n",
       "</table>\n",
       "</div>"
      ],
      "text/plain": [
       "   SepalLengthCm  SepalWidthCm  PetalLengthCm  PetalWidthCm      Species\n",
       "0            5.1           3.5            1.4           0.2  Iris-setosa\n",
       "1            4.9           3.0            1.4           0.2  Iris-setosa\n",
       "2            4.7           3.2            1.3           0.2  Iris-setosa\n",
       "3            4.6           3.1            1.5           0.2  Iris-setosa\n",
       "4            5.0           3.6            1.4           0.2  Iris-setosa"
      ]
     },
     "execution_count": 10,
     "metadata": {},
     "output_type": "execute_result"
    }
   ],
   "source": [
    "df_full = pd.read_csv(\"Iris.csv\")\n",
    "df_full = df_full.drop(['Id'], axis=1)\n",
    "df_full.head()"
   ]
  },
  {
   "cell_type": "code",
   "execution_count": 11,
   "metadata": {},
   "outputs": [],
   "source": [
    "columns = list(df_full.columns)\n",
    "features = columns[:len(columns)-1]\n",
    "class_labels = list(df_full[columns[-1]])\n",
    "df = df_full[features]"
   ]
  },
  {
   "cell_type": "markdown",
   "metadata": {},
   "source": [
    "### Constants"
   ]
  },
  {
   "cell_type": "code",
   "execution_count": 12,
   "metadata": {},
   "outputs": [],
   "source": [
    "k = 3 # Number of Clusters\n",
    "MAX_ITER = 100 # Maximum number of iterations\n",
    "n = len(df) # Number of data points\n",
    "m = 1.7 # Fuzzy parameter # 1 -> ..."
   ]
  },
  {
   "cell_type": "markdown",
   "metadata": {},
   "source": [
    "### Helper Functions"
   ]
  },
  {
   "cell_type": "code",
   "execution_count": 13,
   "metadata": {},
   "outputs": [],
   "source": [
    "def getRandomMembership(): \n",
    "    randomList = [random.random() for i in range(k)]\n",
    "    summation = sum(randomList)\n",
    "    tempList = [x/summation for x in randomList]\n",
    "        \n",
    "    flag = tempList.index(max(tempList))\n",
    "    for j in range(0,len(tempList)):\n",
    "        if(j == flag):\n",
    "            tempList[j] = 1\n",
    "        else:\n",
    "            tempList[j] = 0\n",
    "            \n",
    "    return tempList\n",
    "            \n",
    "def weightedAvg(weights):\n",
    "    denominator = sum(weights)\n",
    "    temp_num = []\n",
    "    for i in range(n):\n",
    "        point = list(df.iloc[i])\n",
    "        prod = [weights[i] * val for val in point]\n",
    "        temp_num.append(prod)\n",
    "    numerator = map(sum, list(zip(*temp_num)))\n",
    "    return [z/denominator for z in numerator]"
   ]
  },
  {
   "cell_type": "code",
   "execution_count": 14,
   "metadata": {},
   "outputs": [],
   "source": [
    "def initMembershipMatrix():\n",
    "    mMatrix = []\n",
    "    for i in range(n):\n",
    "        mMatrix.append(getRandomMembership())\n",
    "        \n",
    "    return mMatrix\n",
    "\n",
    "def clustersCenters(mMatrix):\n",
    "    clustersMembership = list(zip(*mMatrix))\n",
    "    centers = []\n",
    "    \n",
    "    for clusterIndex in range(k):\n",
    "        x = list(clustersMembership[clusterIndex])  \n",
    "        weights = [p ** m for p in x]\n",
    "        center = weightedAvg(weights)\n",
    "        centers.append(center)\n",
    "        \n",
    "    return centers\n",
    "\n",
    "def getClusters(mMatrix):\n",
    "    labels = list()\n",
    "    for i in range(n):\n",
    "        max_val, idx = max((val, idx) for (idx, val) in enumerate(mMatrix[i]))\n",
    "        labels.append(idx)\n",
    "    return labels"
   ]
  },
  {
   "cell_type": "markdown",
   "metadata": {},
   "source": [
    "### Calculate Fuzzy Membership"
   ]
  },
  {
   "cell_type": "markdown",
   "metadata": {},
   "source": [
    "![](1.jpg)\n",
    "![](2.jpg)\n",
    "![](3.jpg)"
   ]
  },
  {
   "cell_type": "code",
   "execution_count": 15,
   "metadata": {},
   "outputs": [],
   "source": [
    "def updateMembershipValues(mMatrix, clustersCenters):\n",
    "    p = float(2/(m-1))\n",
    "    for i in range(n):\n",
    "        x = list(df.iloc[i])\n",
    "        distances = [np.linalg.norm(np.array(list(map(operator.sub, x, clustersCenters[clusterIndex])))) for clusterIndex in range(k)]\n",
    "        for j in range(k):\n",
    "            den = sum([math.pow(float(distances[j]/distances[c]), p) for c in range(k)])\n",
    "            mMatrix[i][j] = float(1/den)       \n",
    "    return mMatrix"
   ]
  },
  {
   "cell_type": "markdown",
   "metadata": {},
   "source": [
    "### Accuracy"
   ]
  },
  {
   "cell_type": "code",
   "execution_count": 16,
   "metadata": {},
   "outputs": [],
   "source": [
    "def accuracy(cluster_labels, class_labels):\n",
    "    correct_pred = 0\n",
    "    seto = max(set(labels[0:50]), key=labels[0:50].count)\n",
    "    vers = max(set(labels[50:100]), key=labels[50:100].count)\n",
    "    virg = max(set(labels[100:]), key=labels[100:].count)\n",
    "    \n",
    "    for i in range(len(df)):\n",
    "        if cluster_labels[i] == seto and class_labels[i] == 'Iris-setosa':\n",
    "            correct_pred = correct_pred + 1\n",
    "        if cluster_labels[i] == vers and class_labels[i] == 'Iris-versicolor' and vers!=seto:\n",
    "            correct_pred = correct_pred + 1\n",
    "        if cluster_labels[i] == virg and class_labels[i] == 'Iris-virginica' and virg!=seto and virg!=vers:\n",
    "            correct_pred = correct_pred + 1\n",
    "            \n",
    "    accuracy = (correct_pred/len(df))*100\n",
    "    return accuracy"
   ]
  },
  {
   "cell_type": "markdown",
   "metadata": {},
   "source": [
    "### Fuzzy CMeans Clustering"
   ]
  },
  {
   "cell_type": "code",
   "execution_count": 17,
   "metadata": {},
   "outputs": [],
   "source": [
    "def fuzzyCMeans():\n",
    "    mMatrix = initMembershipMatrix()\n",
    " \n",
    "    curr = 0\n",
    "    acc=[]\n",
    "    \n",
    "    while curr < MAX_ITER:\n",
    "        centers = clustersCenters(mMatrix)\n",
    "        mMatrix = updateMembershipValues(mMatrix, centers)\n",
    "        clustersLabels = getClusters(mMatrix)\n",
    "        \n",
    "        acc.append(clustersLabels)\n",
    "\n",
    "        curr += 1\n",
    "\n",
    "    return clustersLabels, centers, acc"
   ]
  },
  {
   "cell_type": "code",
   "execution_count": 18,
   "metadata": {},
   "outputs": [
    {
     "name": "stdout",
     "output_type": "stream",
     "text": [
      "88.66666666666667\n"
     ]
    }
   ],
   "source": [
    "labels, centers, acc = fuzzyCMeans()\n",
    "a = accuracy(labels, class_labels)\n",
    "print(a)"
   ]
  },
  {
   "cell_type": "markdown",
   "metadata": {},
   "source": [
    "### Ploting Results"
   ]
  },
  {
   "cell_type": "code",
   "execution_count": 19,
   "metadata": {},
   "outputs": [
    {
     "data": {
      "image/png": "[encoded data removed]",
      "text/plain": [
       "<Figure size 720x720 with 1 Axes>"
      ]
     },
     "metadata": {
      "needs_background": "light"
     },
     "output_type": "display_data"
    }
   ],
   "source": [
    "seto = max(set(labels[0:50]), key=labels[0:50].count)\n",
    "vers = max(set(labels[50:100]), key=labels[50:100].count)\n",
    "virg = max(set(labels[100:]), key=labels[100:].count)\n",
    "\n",
    "s_mean_clus1 = np.array([centers[seto][0],centers[seto][1]])\n",
    "s_mean_clus2 = np.array([centers[vers][0],centers[vers][1]])\n",
    "s_mean_clus3 = np.array([centers[virg][0],centers[virg][1]])\n",
    "\n",
    "values = np.array(labels)\n",
    "\n",
    "searchval_seto = seto\n",
    "searchval_vers = vers\n",
    "searchval_virg = virg\n",
    "\n",
    "ii_seto = np.where(values == searchval_seto)[0]\n",
    "ii_vers = np.where(values == searchval_vers)[0]\n",
    "ii_virg = np.where(values == searchval_virg)[0]\n",
    "ind_seto = list(ii_seto)\n",
    "ind_vers = list(ii_vers)\n",
    "ind_virg = list(ii_virg)\n",
    "\n",
    "sepal_df = df_full.iloc[:,0:2]\n",
    "seto_df = sepal_df[sepal_df.index.isin(ind_seto)]\n",
    "vers_df = sepal_df[sepal_df.index.isin(ind_vers)]\n",
    "virg_df = sepal_df[sepal_df.index.isin(ind_virg)]\n",
    "cov_seto = np.cov(np.transpose(np.array(seto_df)))\n",
    "cov_vers = np.cov(np.transpose(np.array(vers_df)))\n",
    "cov_virg = np.cov(np.transpose(np.array(virg_df)))\n",
    "sepal_df = np.array(sepal_df)\n",
    "x1 = np.linspace(4,8,150)  \n",
    "x2 = np.linspace(1.5,4.5,150)\n",
    "X, Y = np.meshgrid(x1,x2) \n",
    "\n",
    "Z1 = multivariate_normal(s_mean_clus1, cov_seto)  \n",
    "Z2 = multivariate_normal(s_mean_clus2, cov_vers)\n",
    "Z3 = multivariate_normal(s_mean_clus3, cov_virg)\n",
    "\n",
    "p_mean_clus1 = np.array([centers[seto][2],centers[seto][3]])\n",
    "p_mean_clus2 = np.array([centers[vers][2],centers[vers][3]])\n",
    "p_mean_clus3 = np.array([centers[virg][2],centers[virg][3]])\n",
    "petal_df = df_full.iloc[:,2:4]\n",
    "seto_df = petal_df[petal_df.index.isin(ind_seto)]\n",
    "vers_df = petal_df[petal_df.index.isin(ind_vers)]\n",
    "virg_df = petal_df[petal_df.index.isin(ind_virg)]\n",
    "cov_seto = np.cov(np.transpose(np.array(seto_df)))\n",
    "cov_vers = np.cov(np.transpose(np.array(vers_df)))\n",
    "cov_virg = np.cov(np.transpose(np.array(virg_df)))\n",
    "petal_df = np.array(petal_df)\n",
    "x1 = np.linspace(0.5,7,150)  \n",
    "x2 = np.linspace(-1,4,150)\n",
    "X, Y = np.meshgrid(x1,x2) \n",
    "\n",
    "Z1 = multivariate_normal(p_mean_clus1, cov_seto)  \n",
    "Z2 = multivariate_normal(p_mean_clus2, cov_vers)\n",
    "Z3 = multivariate_normal(p_mean_clus3, cov_virg)\n",
    "\n",
    "pos = np.empty(X.shape + (2,))                # a new array of given shape and type, without initializing entries\n",
    "pos[:, :, 0] = X; pos[:, :, 1] = Y   \n",
    "\n",
    "plt.figure(figsize=(10,10))                                                          # creating the figure and assigning the size\n",
    "plt.scatter(petal_df[:,0], petal_df[:,1], marker='o')     \n",
    "plt.contour(X, Y, Z1.pdf(pos), colors=\"r\" ,alpha = 0.5) \n",
    "plt.contour(X, Y, Z2.pdf(pos), colors=\"b\" ,alpha = 0.5) \n",
    "plt.contour(X, Y, Z3.pdf(pos), colors=\"g\" ,alpha = 0.5) \n",
    "plt.axis('equal')                                                                  # making both the axis equal\n",
    "plt.xlabel('Petal Length', fontsize=16)                                                  # X-Axis\n",
    "plt.ylabel('Petal Width', fontsize=16)                                                  # Y-Axis\n",
    "plt.title('Final Clusters(Petal)', fontsize=22)                                            # Title of the plot\n",
    "plt.grid()                                                                         # displaying gridlines\n",
    "plt.show()"
   ]
  }
 ],
 "metadata": {
  "kernelspec": {
   "display_name": "Python 3",
   "language": "python",
   "name": "python3"
  },
  "language_info": {
   "codemirror_mode": {
    "name": "ipython",
    "version": 3
   },
   "file_extension": ".py",
   "mimetype": "text/x-python",
   "name": "python",
   "nbconvert_exporter": "python",
   "pygments_lexer": "ipython3",
   "version": "3.8.3"
  }
 },
 "nbformat": 4,
 "nbformat_minor": 5
}
